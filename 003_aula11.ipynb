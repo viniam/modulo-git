{
 "cells": [
  {
   "attachments": {},
   "cell_type": "markdown",
   "metadata": {},
   "source": [
    "### Exercício 003-11-1:\n",
    "\n",
    "Faça um programa em python que faça a divisão de 1 por um valor passado por uma variável e realize o tratamento para as entradas abaixo:\n",
    "\n",
    "```python\n",
    "entrada = 0\n",
    "divisao = 1/entrada # vai dar error\n",
    "#nesse caso tem que ser tratado o erro de divisão por zero, criar um tratamento de exceção para esse tipo de erro e imprimir uma mensagem amigável com o tipo de erro.\n",
    "\n",
    "entrada = ‘teste’\n",
    "divisao = 1/entrada # vai dar error\n",
    "#nesse caso tem que ser tratado o erro de tipo, criar um tratamento # exceção para esse tipo de erro e imprimir uma mensagem amigável com o tipo de erro.\n",
    "```\n",
    "\n",
    "E deixar o código para tratar erros genéricos diferentes dos mencionados acima.  \n",
    "Caso a entrada seja um valor que não provoque erro, imprimir o valor da divisão.  \n",
    "Por fim, independente de ter erro ou não imprimir ao final da execução do programa, dentro da estrutura de tratamento de exceções uma mensagem informando seu nome.  \n",
    "Crie esse código, suba para o github e envie na plataforma somente o link do repositório com o exercício resolvido\n"
   ]
  },
  {
   "cell_type": "code",
   "execution_count": 1,
   "metadata": {},
   "outputs": [
    {
     "name": "stdout",
     "output_type": "stream",
     "text": [
      "1/2 = 0.5\n",
      "Fim do programa de Vinicius Amorim.\n"
     ]
    }
   ],
   "source": [
    "try:\n",
    "    entrada = input('Digite uma entrada: ')\n",
    "    divisao = 1 / int(entrada) if entrada.isdigit() else 1 / entrada\n",
    "except ZeroDivisionError:\n",
    "    print('Não é possível dividir por zero.')\n",
    "except TypeError:\n",
    "    print('Não é possível dividir por string.')\n",
    "except Exception as error:\n",
    "    print(f\"Erro desconhecido. [{error}]\")\n",
    "else:\n",
    "    print(f\"1/{entrada} = {divisao}\")\n",
    "finally:\n",
    "    print('Fim do programa de Vinicius Amorim.')\n"
   ]
  }
 ],
 "metadata": {
  "kernelspec": {
   "display_name": "Python 3",
   "language": "python",
   "name": "python3"
  },
  "language_info": {
   "codemirror_mode": {
    "name": "ipython",
    "version": 3
   },
   "file_extension": ".py",
   "mimetype": "text/x-python",
   "name": "python",
   "nbconvert_exporter": "python",
   "pygments_lexer": "ipython3",
   "version": "3.9.13"
  },
  "orig_nbformat": 4,
  "vscode": {
   "interpreter": {
    "hash": "6f855776b237e025a3a87c2d6d7d34904c19210088389d174762ed2c8a99cf13"
   }
  }
 },
 "nbformat": 4,
 "nbformat_minor": 2
}
